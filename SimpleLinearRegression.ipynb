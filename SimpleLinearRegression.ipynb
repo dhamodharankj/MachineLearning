{
 "cells": [
  {
   "cell_type": "code",
   "execution_count": 2,
   "id": "984c04c2",
   "metadata": {},
   "outputs": [],
   "source": [
    "#importing libraries\n",
    "import numpy as np #it is a library used for numerical python\n",
    "import matplotlib.pyplot as plt #it is a library used for visualization and plotting the graphs\n",
    "import pandas as pd #it is a library used for managing and analyzing the dataset"
   ]
  },
  {
   "cell_type": "code",
   "execution_count": 5,
   "id": "be9af81b",
   "metadata": {},
   "outputs": [
    {
     "data": {
      "text/html": [
       "<div>\n",
       "<style scoped>\n",
       "    .dataframe tbody tr th:only-of-type {\n",
       "        vertical-align: middle;\n",
       "    }\n",
       "\n",
       "    .dataframe tbody tr th {\n",
       "        vertical-align: top;\n",
       "    }\n",
       "\n",
       "    .dataframe thead th {\n",
       "        text-align: right;\n",
       "    }\n",
       "</style>\n",
       "<table border=\"1\" class=\"dataframe\">\n",
       "  <thead>\n",
       "    <tr style=\"text-align: right;\">\n",
       "      <th></th>\n",
       "      <th>YearsOfExperience</th>\n",
       "      <th>Salary</th>\n",
       "    </tr>\n",
       "  </thead>\n",
       "  <tbody>\n",
       "    <tr>\n",
       "      <th>0</th>\n",
       "      <td>1.1</td>\n",
       "      <td>39343</td>\n",
       "    </tr>\n",
       "    <tr>\n",
       "      <th>1</th>\n",
       "      <td>1.3</td>\n",
       "      <td>46205</td>\n",
       "    </tr>\n",
       "    <tr>\n",
       "      <th>2</th>\n",
       "      <td>1.5</td>\n",
       "      <td>37731</td>\n",
       "    </tr>\n",
       "    <tr>\n",
       "      <th>3</th>\n",
       "      <td>2.0</td>\n",
       "      <td>43525</td>\n",
       "    </tr>\n",
       "    <tr>\n",
       "      <th>4</th>\n",
       "      <td>2.2</td>\n",
       "      <td>39891</td>\n",
       "    </tr>\n",
       "    <tr>\n",
       "      <th>5</th>\n",
       "      <td>2.9</td>\n",
       "      <td>56642</td>\n",
       "    </tr>\n",
       "    <tr>\n",
       "      <th>6</th>\n",
       "      <td>3.0</td>\n",
       "      <td>60150</td>\n",
       "    </tr>\n",
       "    <tr>\n",
       "      <th>7</th>\n",
       "      <td>3.2</td>\n",
       "      <td>54445</td>\n",
       "    </tr>\n",
       "    <tr>\n",
       "      <th>8</th>\n",
       "      <td>3.2</td>\n",
       "      <td>64445</td>\n",
       "    </tr>\n",
       "    <tr>\n",
       "      <th>9</th>\n",
       "      <td>3.7</td>\n",
       "      <td>57189</td>\n",
       "    </tr>\n",
       "    <tr>\n",
       "      <th>10</th>\n",
       "      <td>3.9</td>\n",
       "      <td>63218</td>\n",
       "    </tr>\n",
       "    <tr>\n",
       "      <th>11</th>\n",
       "      <td>4.0</td>\n",
       "      <td>55794</td>\n",
       "    </tr>\n",
       "    <tr>\n",
       "      <th>12</th>\n",
       "      <td>4.0</td>\n",
       "      <td>56957</td>\n",
       "    </tr>\n",
       "    <tr>\n",
       "      <th>13</th>\n",
       "      <td>4.1</td>\n",
       "      <td>57081</td>\n",
       "    </tr>\n",
       "    <tr>\n",
       "      <th>14</th>\n",
       "      <td>4.5</td>\n",
       "      <td>61111</td>\n",
       "    </tr>\n",
       "    <tr>\n",
       "      <th>15</th>\n",
       "      <td>4.9</td>\n",
       "      <td>67938</td>\n",
       "    </tr>\n",
       "    <tr>\n",
       "      <th>16</th>\n",
       "      <td>5.1</td>\n",
       "      <td>66029</td>\n",
       "    </tr>\n",
       "    <tr>\n",
       "      <th>17</th>\n",
       "      <td>5.3</td>\n",
       "      <td>83088</td>\n",
       "    </tr>\n",
       "    <tr>\n",
       "      <th>18</th>\n",
       "      <td>5.9</td>\n",
       "      <td>81363</td>\n",
       "    </tr>\n",
       "    <tr>\n",
       "      <th>19</th>\n",
       "      <td>6.0</td>\n",
       "      <td>93940</td>\n",
       "    </tr>\n",
       "    <tr>\n",
       "      <th>20</th>\n",
       "      <td>6.8</td>\n",
       "      <td>91738</td>\n",
       "    </tr>\n",
       "    <tr>\n",
       "      <th>21</th>\n",
       "      <td>7.1</td>\n",
       "      <td>98273</td>\n",
       "    </tr>\n",
       "    <tr>\n",
       "      <th>22</th>\n",
       "      <td>7.9</td>\n",
       "      <td>101302</td>\n",
       "    </tr>\n",
       "    <tr>\n",
       "      <th>23</th>\n",
       "      <td>8.2</td>\n",
       "      <td>113812</td>\n",
       "    </tr>\n",
       "    <tr>\n",
       "      <th>24</th>\n",
       "      <td>8.7</td>\n",
       "      <td>109431</td>\n",
       "    </tr>\n",
       "    <tr>\n",
       "      <th>25</th>\n",
       "      <td>9.0</td>\n",
       "      <td>105582</td>\n",
       "    </tr>\n",
       "    <tr>\n",
       "      <th>26</th>\n",
       "      <td>9.5</td>\n",
       "      <td>116969</td>\n",
       "    </tr>\n",
       "    <tr>\n",
       "      <th>27</th>\n",
       "      <td>9.6</td>\n",
       "      <td>112635</td>\n",
       "    </tr>\n",
       "    <tr>\n",
       "      <th>28</th>\n",
       "      <td>10.3</td>\n",
       "      <td>122391</td>\n",
       "    </tr>\n",
       "    <tr>\n",
       "      <th>29</th>\n",
       "      <td>10.5</td>\n",
       "      <td>121872</td>\n",
       "    </tr>\n",
       "  </tbody>\n",
       "</table>\n",
       "</div>"
      ],
      "text/plain": [
       "    YearsOfExperience  Salary\n",
       "0                 1.1   39343\n",
       "1                 1.3   46205\n",
       "2                 1.5   37731\n",
       "3                 2.0   43525\n",
       "4                 2.2   39891\n",
       "5                 2.9   56642\n",
       "6                 3.0   60150\n",
       "7                 3.2   54445\n",
       "8                 3.2   64445\n",
       "9                 3.7   57189\n",
       "10                3.9   63218\n",
       "11                4.0   55794\n",
       "12                4.0   56957\n",
       "13                4.1   57081\n",
       "14                4.5   61111\n",
       "15                4.9   67938\n",
       "16                5.1   66029\n",
       "17                5.3   83088\n",
       "18                5.9   81363\n",
       "19                6.0   93940\n",
       "20                6.8   91738\n",
       "21                7.1   98273\n",
       "22                7.9  101302\n",
       "23                8.2  113812\n",
       "24                8.7  109431\n",
       "25                9.0  105582\n",
       "26                9.5  116969\n",
       "27                9.6  112635\n",
       "28               10.3  122391\n",
       "29               10.5  121872"
      ]
     },
     "execution_count": 5,
     "metadata": {},
     "output_type": "execute_result"
    }
   ],
   "source": [
    "data = pd.read_csv('Salary_Data.csv') #reading the dataset from the curent path\n",
    "data #retieving the data from dataset"
   ]
  },
  {
   "cell_type": "code",
   "execution_count": 21,
   "id": "04663818",
   "metadata": {},
   "outputs": [],
   "source": [
    "independent=data[['YearsOfExperience']] #Declaring input values to independent values\n",
    "dependent=data['Salary'] #declaring output values to dependent values"
   ]
  },
  {
   "cell_type": "code",
   "execution_count": 22,
   "id": "472c16c0",
   "metadata": {},
   "outputs": [
    {
     "data": {
      "image/png": "[encoded data removed]",
      "text/plain": [
       "<Figure size 432x288 with 1 Axes>"
      ]
     },
     "metadata": {
      "needs_background": "light"
     },
     "output_type": "display_data"
    }
   ],
   "source": [
    "plt.scatter(independent,dependent) #ploting the graphs for independent and dependent values\n",
    "plt.xlabel('YearsOfExperience',fontsize=20) #Declaring the fontsize of independent title\n",
    "plt.ylabel('Salary',fontsize=20) #Declaring the fontsize of dependent title\n",
    "plt.show() #Retieving the scatter plot"
   ]
  },
  {
   "cell_type": "code",
   "execution_count": 23,
   "id": "b0be01b9",
   "metadata": {},
   "outputs": [],
   "source": [
    "from sklearn.model_selection import train_test_split #importing the library for model creation\n",
    "X_train,X_test,y_train,y_test=train_test_split(independent,dependent,test_size=1/3,random_state=0) #splitting train and test values"
   ]
  },
  {
   "cell_type": "code",
   "execution_count": 24,
   "id": "bdc09d3f",
   "metadata": {},
   "outputs": [
    {
     "data": {
      "text/plain": [
       "5      56642\n",
       "16     66029\n",
       "8      64445\n",
       "14     61111\n",
       "23    113812\n",
       "20     91738\n",
       "1      46205\n",
       "29    121872\n",
       "6      60150\n",
       "4      39891\n",
       "18     81363\n",
       "19     93940\n",
       "9      57189\n",
       "7      54445\n",
       "25    105582\n",
       "3      43525\n",
       "0      39343\n",
       "21     98273\n",
       "15     67938\n",
       "12     56957\n",
       "Name: Salary, dtype: int64"
      ]
     },
     "execution_count": 24,
     "metadata": {},
     "output_type": "execute_result"
    }
   ],
   "source": [
    "y_train"
   ]
  },
  {
   "cell_type": "code",
   "execution_count": 25,
   "id": "d393f3da",
   "metadata": {},
   "outputs": [
    {
     "data": {
      "text/plain": [
       "2      37731\n",
       "28    122391\n",
       "13     57081\n",
       "10     63218\n",
       "26    116969\n",
       "24    109431\n",
       "27    112635\n",
       "11     55794\n",
       "17     83088\n",
       "22    101302\n",
       "Name: Salary, dtype: int64"
      ]
     },
     "execution_count": 25,
     "metadata": {},
     "output_type": "execute_result"
    }
   ],
   "source": [
    "y_test"
   ]
  },
  {
   "cell_type": "code",
   "execution_count": 28,
   "id": "eec34b7f",
   "metadata": {},
   "outputs": [
    {
     "data": {
      "text/plain": [
       "LinearRegression()"
      ]
     },
     "execution_count": 28,
     "metadata": {},
     "output_type": "execute_result"
    }
   ],
   "source": [
    "from sklearn.linear_model import LinearRegression #\n",
    "regressor=LinearRegression() #Linear Regression assigned to the non parametized function\n",
    "regressor.fit(X_train,y_train)#y=W*x1+b0 for this equation we got value for b1 and bo(to calculate weight and bias)"
   ]
  },
  {
   "cell_type": "code",
   "execution_count": 29,
   "id": "82d9e31e",
   "metadata": {},
   "outputs": [
    {
     "name": "stdout",
     "output_type": "stream",
     "text": [
      "Weight of the model=[9345.94244312]\n",
      "Intercept of the model=26816.19224403119\n"
     ]
    }
   ],
   "source": [
    "# Viewing the b1 and bo value\n",
    "weight=regressor.coef_ #Viewing Wight of the model\n",
    "print('Weight of the model={}'.format(weight))\n",
    "bias=regressor.intercept_ # Viewing bias of the model\n",
    "print('Intercept of the model={}'.format(bias))"
   ]
  },
  {
   "cell_type": "code",
   "execution_count": 30,
   "id": "4bf7e570",
   "metadata": {},
   "outputs": [
    {
     "data": {
      "text/plain": [
       "array([ 40835.10590871, 123079.39940819,  65134.55626083,  63265.36777221,\n",
       "       115602.64545369, 108125.8914992 , 116537.23969801,  64199.96201652,\n",
       "        76349.68719258, 100649.1375447 ])"
      ]
     },
     "execution_count": 30,
     "metadata": {},
     "output_type": "execute_result"
    }
   ],
   "source": [
    "y_pred=regressor.predict(X_test)\n",
    "y_pred"
   ]
  },
  {
   "cell_type": "code",
   "execution_count": 31,
   "id": "0dc4cca6",
   "metadata": {},
   "outputs": [],
   "source": [
    "from sklearn.metrics import r2_score #Import r2 library to verify the model is good\n",
    "r_score=r2_score(y_test,y_pred) #Applying values to verify the model"
   ]
  },
  {
   "cell_type": "code",
   "execution_count": 32,
   "id": "86d5d48d",
   "metadata": {},
   "outputs": [
    {
     "data": {
      "text/plain": [
       "0.9749154407708353"
      ]
     },
     "execution_count": 32,
     "metadata": {},
     "output_type": "execute_result"
    }
   ],
   "source": [
    "r_score"
   ]
  },
  {
   "cell_type": "code",
   "execution_count": 34,
   "id": "1e3ad3dc",
   "metadata": {},
   "outputs": [],
   "source": [
    "import pickle #used for seriazing and deserializing the python data structure\n",
    "filename = 'finalized_model.sav' #creating the filename to save the model\n",
    "pickle.dump(regressor, open(filename, 'wb')) #Opening the saved fu=ile using dump function"
   ]
  },
  {
   "cell_type": "code",
   "execution_count": 38,
   "id": "7df65398",
   "metadata": {},
   "outputs": [
    {
     "name": "stderr",
     "output_type": "stream",
     "text": [
      "C:\\Users\\LENOVO\\anaconda3\\lib\\site-packages\\sklearn\\base.py:450: UserWarning: X does not have valid feature names, but LinearRegression was fitted with feature names\n",
      "  warnings.warn(\n"
     ]
    },
    {
     "data": {
      "text/plain": [
       "array([138967.5015615])"
      ]
     },
     "execution_count": 38,
     "metadata": {},
     "output_type": "execute_result"
    }
   ],
   "source": [
    "loaded_model=pickle.load(open('finalized_model.sav','rb'))\n",
    "result=loaded_model.predict([[12]])\n",
    "result"
   ]
  },
  {
   "cell_type": "code",
   "execution_count": null,
   "id": "e46dfbde",
   "metadata": {},
   "outputs": [],
   "source": []
  }
 ],
 "metadata": {
  "kernelspec": {
   "display_name": "Python 3 (ipykernel)",
   "language": "python",
   "name": "python3"
  },
  "language_info": {
   "codemirror_mode": {
    "name": "ipython",
    "version": 3
   },
   "file_extension": ".py",
   "mimetype": "text/x-python",
   "name": "python",
   "nbconvert_exporter": "python",
   "pygments_lexer": "ipython3",
   "version": "3.9.12"
  }
 },
 "nbformat": 4,
 "nbformat_minor": 5
}
