{
 "cells": [
  {
   "cell_type": "code",
   "execution_count": 3,
   "id": "f6a71c96",
   "metadata": {},
   "outputs": [],
   "source": [
    "import pickle\n",
    "loaded_model=pickle.load(open('finalized_model.sav','rb'))"
   ]
  },
  {
   "cell_type": "code",
   "execution_count": 6,
   "id": "a049569c",
   "metadata": {},
   "outputs": [
    {
     "name": "stderr",
     "output_type": "stream",
     "text": [
      "C:\\Users\\LENOVO\\anaconda3\\lib\\site-packages\\sklearn\\base.py:450: UserWarning: X does not have valid feature names, but LinearRegression was fitted with feature names\n",
      "  warnings.warn(\n"
     ]
    }
   ],
   "source": [
    "result=loaded_model.predict([[0]])"
   ]
  },
  {
   "cell_type": "code",
   "execution_count": 7,
   "id": "9e7acc8b",
   "metadata": {},
   "outputs": [
    {
     "data": {
      "text/plain": [
       "array([26816.19224403])"
      ]
     },
     "execution_count": 7,
     "metadata": {},
     "output_type": "execute_result"
    }
   ],
   "source": [
    "result"
   ]
  }
 ],
 "metadata": {
  "kernelspec": {
   "display_name": "Python 3 (ipykernel)",
   "language": "python",
   "name": "python3"
  },
  "language_info": {
   "codemirror_mode": {
    "name": "ipython",
    "version": 3
   },
   "file_extension": ".py",
   "mimetype": "text/x-python",
   "name": "python",
   "nbconvert_exporter": "python",
   "pygments_lexer": "ipython3",
   "version": "3.9.12"
  }
 },
 "nbformat": 4,
 "nbformat_minor": 5
}
